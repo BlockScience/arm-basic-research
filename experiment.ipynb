{
 "metadata": {
  "language_info": {
   "codemirror_mode": {
    "name": "ipython",
    "version": 3
   },
   "file_extension": ".py",
   "mimetype": "text/x-python",
   "name": "python",
   "nbconvert_exporter": "python",
   "pygments_lexer": "ipython3",
   "version": "3.8.5"
  },
  "orig_nbformat": 2,
  "kernelspec": {
   "name": "python385jvsc74a57bd091f5e78cabe1d5d9ca191bea9ff9467d09637b3bdaed5fd94361851834cd08a3",
   "display_name": "Python 3.8.5 64-bit ('base': conda)"
  }
 },
 "nbformat": 4,
 "nbformat_minor": 2,
 "cells": [
  {
   "cell_type": "code",
   "execution_count": 1,
   "metadata": {
    "tags": []
   },
   "outputs": [
    {
     "output_type": "stream",
     "name": "stdout",
     "text": [
      "\n                  ___________    ____\n  ________ __ ___/ / ____/   |  / __ \\\n / ___/ __` / __  / /   / /| | / / / /\n/ /__/ /_/ / /_/ / /___/ ___ |/ /_/ /\n\\___/\\__,_/\\__,_/\\____/_/  |_/_____/\nby cadCAD\n\nExecution Mode: local_proc\nConfiguration Count: 1\nDimensions of the first simulation: (Timesteps, Params, Runs, Vars) = (10, 1, 1, 3)\nExecution Method: local_simulations\nSimIDs   : [0]\nSubsetIDs: [0]\nNs       : [0]\nExpIDs   : [0]\nExecution Mode: single_threaded\nTotal execution time: 0.01s\n    reserve                                              items  \\\n3        10  {0: <model.model.items.Item object at 0x7fe4d0...   \n6        10  {0: <model.model.items.Item object at 0x7fe4d0...   \n9        10  {0: <model.model.items.Item object at 0x7fe4d0...   \n12       10  {0: <model.model.items.Item object at 0x7fe4d0...   \n15       10  {0: <model.model.items.Item object at 0x7fe4d0...   \n18       10  {0: <model.model.items.Item object at 0x7fe4d0...   \n21       10  {0: <model.model.items.Item object at 0x7fe4d0...   \n24       10  {0: <model.model.items.Item object at 0x7fe4d0...   \n27       10  {0: <model.model.items.Item object at 0x7fe4d0...   \n30       10  {0: <model.model.items.Item object at 0x7fe4e0...   \n\n                                                model  simulation  subset  \\\n3   <model.model.learning.Model object at 0x7fe4d0...           0       0   \n6   <model.model.learning.Model object at 0x7fe4d0...           0       0   \n9   <model.model.learning.Model object at 0x7fe4d0...           0       0   \n12  <model.model.learning.Model object at 0x7fe4d0...           0       0   \n15  <model.model.learning.Model object at 0x7fe4d0...           0       0   \n18  <model.model.learning.Model object at 0x7fe4d0...           0       0   \n21  <model.model.learning.Model object at 0x7fe4d0...           0       0   \n24  <model.model.learning.Model object at 0x7fe4d0...           0       0   \n27  <model.model.learning.Model object at 0x7fe4e0...           0       0   \n30  <model.model.learning.Model object at 0x7fe4e0...           0       0   \n\n    run  substep  timestep  \n3     1        3         1  \n6     1        3         2  \n9     1        3         3  \n12    1        3         4  \n15    1        3         5  \n18    1        3         6  \n21    1        3         7  \n24    1        3         8  \n27    1        3         9  \n30    1        3        10  \n"
     ]
    }
   ],
   "source": [
    "import matplotlib.pyplot as plt\n",
    "from model.run import run\n",
    "\n",
    "df = run()\n",
    "\n",
    "print(df)"
   ]
  },
  {
   "cell_type": "code",
   "execution_count": 5,
   "metadata": {},
   "outputs": [
    {
     "output_type": "execute_result",
     "data": {
      "text/plain": [
       "<bound method DataFrame.items of      reserve                                              items  \\\n",
       "3         10  {0: <model.model.items.Item object at 0x7fd4f8...   \n",
       "6         10  {0: <model.model.items.Item object at 0x7fd4f8...   \n",
       "9         10  {0: <model.model.items.Item object at 0x7fd4f8...   \n",
       "12        10  {0: <model.model.items.Item object at 0x7fd4f8...   \n",
       "15        10  {0: <model.model.items.Item object at 0x7fd4f8...   \n",
       "..       ...                                                ...   \n",
       "258       10  {0: <model.model.items.Item object at 0x7fd4a8...   \n",
       "261       10  {0: <model.model.items.Item object at 0x7fd4a8...   \n",
       "264       10  {0: <model.model.items.Item object at 0x7fd4a8...   \n",
       "267       10  {0: <model.model.items.Item object at 0x7fd518...   \n",
       "270       10  {0: <model.model.items.Item object at 0x7fd518...   \n",
       "\n",
       "                                                 model  simulation  subset  \\\n",
       "3    <model.model.learning.Model object at 0x7fd4f8...           0       0   \n",
       "6    <model.model.learning.Model object at 0x7fd4f8...           0       0   \n",
       "9    <model.model.learning.Model object at 0x7fd4f8...           0       0   \n",
       "12   <model.model.learning.Model object at 0x7fd4f8...           0       0   \n",
       "15   <model.model.learning.Model object at 0x7fd4f8...           0       0   \n",
       "..                                                 ...         ...     ...   \n",
       "258  <model.model.learning.Model object at 0x7fd4a8...           0       0   \n",
       "261  <model.model.learning.Model object at 0x7fd4a8...           0       0   \n",
       "264  <model.model.learning.Model object at 0x7fd4a8...           0       0   \n",
       "267  <model.model.learning.Model object at 0x7fd518...           0       0   \n",
       "270  <model.model.learning.Model object at 0x7fd518...           0       0   \n",
       "\n",
       "     run  substep  timestep  \n",
       "3      1        3         1  \n",
       "6      1        3         2  \n",
       "9      1        3         3  \n",
       "12     1        3         4  \n",
       "15     1        3         5  \n",
       "..   ...      ...       ...  \n",
       "258    1        3        86  \n",
       "261    1        3        87  \n",
       "264    1        3        88  \n",
       "267    1        3        89  \n",
       "270    1        3        90  \n",
       "\n",
       "[90 rows x 8 columns]>"
      ]
     },
     "metadata": {},
     "execution_count": 5
    }
   ],
   "source": []
  },
  {
   "cell_type": "code",
   "execution_count": 2,
   "metadata": {},
   "outputs": [
    {
     "output_type": "execute_result",
     "data": {
      "text/plain": [
       "    reserve                                              items  \\\n",
       "3        10  {0: <model.model.items.Item object at 0x7fe4d0...   \n",
       "6        10  {0: <model.model.items.Item object at 0x7fe4d0...   \n",
       "9        10  {0: <model.model.items.Item object at 0x7fe4d0...   \n",
       "12       10  {0: <model.model.items.Item object at 0x7fe4d0...   \n",
       "15       10  {0: <model.model.items.Item object at 0x7fe4d0...   \n",
       "18       10  {0: <model.model.items.Item object at 0x7fe4d0...   \n",
       "21       10  {0: <model.model.items.Item object at 0x7fe4d0...   \n",
       "24       10  {0: <model.model.items.Item object at 0x7fe4d0...   \n",
       "27       10  {0: <model.model.items.Item object at 0x7fe4d0...   \n",
       "30       10  {0: <model.model.items.Item object at 0x7fe4e0...   \n",
       "\n",
       "                                                model  simulation  subset  \\\n",
       "3   <model.model.learning.Model object at 0x7fe4d0...           0       0   \n",
       "6   <model.model.learning.Model object at 0x7fe4d0...           0       0   \n",
       "9   <model.model.learning.Model object at 0x7fe4d0...           0       0   \n",
       "12  <model.model.learning.Model object at 0x7fe4d0...           0       0   \n",
       "15  <model.model.learning.Model object at 0x7fe4d0...           0       0   \n",
       "18  <model.model.learning.Model object at 0x7fe4d0...           0       0   \n",
       "21  <model.model.learning.Model object at 0x7fe4d0...           0       0   \n",
       "24  <model.model.learning.Model object at 0x7fe4d0...           0       0   \n",
       "27  <model.model.learning.Model object at 0x7fe4e0...           0       0   \n",
       "30  <model.model.learning.Model object at 0x7fe4e0...           0       0   \n",
       "\n",
       "    run  substep  timestep  \n",
       "3     1        3         1  \n",
       "6     1        3         2  \n",
       "9     1        3         3  \n",
       "12    1        3         4  \n",
       "15    1        3         5  \n",
       "18    1        3         6  \n",
       "21    1        3         7  \n",
       "24    1        3         8  \n",
       "27    1        3         9  \n",
       "30    1        3        10  "
      ],
      "text/html": "<div>\n<style scoped>\n    .dataframe tbody tr th:only-of-type {\n        vertical-align: middle;\n    }\n\n    .dataframe tbody tr th {\n        vertical-align: top;\n    }\n\n    .dataframe thead th {\n        text-align: right;\n    }\n</style>\n<table border=\"1\" class=\"dataframe\">\n  <thead>\n    <tr style=\"text-align: right;\">\n      <th></th>\n      <th>reserve</th>\n      <th>items</th>\n      <th>model</th>\n      <th>simulation</th>\n      <th>subset</th>\n      <th>run</th>\n      <th>substep</th>\n      <th>timestep</th>\n    </tr>\n  </thead>\n  <tbody>\n    <tr>\n      <th>3</th>\n      <td>10</td>\n      <td>{0: &lt;model.model.items.Item object at 0x7fe4d0...</td>\n      <td>&lt;model.model.learning.Model object at 0x7fe4d0...</td>\n      <td>0</td>\n      <td>0</td>\n      <td>1</td>\n      <td>3</td>\n      <td>1</td>\n    </tr>\n    <tr>\n      <th>6</th>\n      <td>10</td>\n      <td>{0: &lt;model.model.items.Item object at 0x7fe4d0...</td>\n      <td>&lt;model.model.learning.Model object at 0x7fe4d0...</td>\n      <td>0</td>\n      <td>0</td>\n      <td>1</td>\n      <td>3</td>\n      <td>2</td>\n    </tr>\n    <tr>\n      <th>9</th>\n      <td>10</td>\n      <td>{0: &lt;model.model.items.Item object at 0x7fe4d0...</td>\n      <td>&lt;model.model.learning.Model object at 0x7fe4d0...</td>\n      <td>0</td>\n      <td>0</td>\n      <td>1</td>\n      <td>3</td>\n      <td>3</td>\n    </tr>\n    <tr>\n      <th>12</th>\n      <td>10</td>\n      <td>{0: &lt;model.model.items.Item object at 0x7fe4d0...</td>\n      <td>&lt;model.model.learning.Model object at 0x7fe4d0...</td>\n      <td>0</td>\n      <td>0</td>\n      <td>1</td>\n      <td>3</td>\n      <td>4</td>\n    </tr>\n    <tr>\n      <th>15</th>\n      <td>10</td>\n      <td>{0: &lt;model.model.items.Item object at 0x7fe4d0...</td>\n      <td>&lt;model.model.learning.Model object at 0x7fe4d0...</td>\n      <td>0</td>\n      <td>0</td>\n      <td>1</td>\n      <td>3</td>\n      <td>5</td>\n    </tr>\n    <tr>\n      <th>18</th>\n      <td>10</td>\n      <td>{0: &lt;model.model.items.Item object at 0x7fe4d0...</td>\n      <td>&lt;model.model.learning.Model object at 0x7fe4d0...</td>\n      <td>0</td>\n      <td>0</td>\n      <td>1</td>\n      <td>3</td>\n      <td>6</td>\n    </tr>\n    <tr>\n      <th>21</th>\n      <td>10</td>\n      <td>{0: &lt;model.model.items.Item object at 0x7fe4d0...</td>\n      <td>&lt;model.model.learning.Model object at 0x7fe4d0...</td>\n      <td>0</td>\n      <td>0</td>\n      <td>1</td>\n      <td>3</td>\n      <td>7</td>\n    </tr>\n    <tr>\n      <th>24</th>\n      <td>10</td>\n      <td>{0: &lt;model.model.items.Item object at 0x7fe4d0...</td>\n      <td>&lt;model.model.learning.Model object at 0x7fe4d0...</td>\n      <td>0</td>\n      <td>0</td>\n      <td>1</td>\n      <td>3</td>\n      <td>8</td>\n    </tr>\n    <tr>\n      <th>27</th>\n      <td>10</td>\n      <td>{0: &lt;model.model.items.Item object at 0x7fe4d0...</td>\n      <td>&lt;model.model.learning.Model object at 0x7fe4e0...</td>\n      <td>0</td>\n      <td>0</td>\n      <td>1</td>\n      <td>3</td>\n      <td>9</td>\n    </tr>\n    <tr>\n      <th>30</th>\n      <td>10</td>\n      <td>{0: &lt;model.model.items.Item object at 0x7fe4e0...</td>\n      <td>&lt;model.model.learning.Model object at 0x7fe4e0...</td>\n      <td>0</td>\n      <td>0</td>\n      <td>1</td>\n      <td>3</td>\n      <td>10</td>\n    </tr>\n  </tbody>\n</table>\n</div>"
     },
     "metadata": {},
     "execution_count": 2
    }
   ],
   "source": [
    "df"
   ]
  },
  {
   "cell_type": "code",
   "execution_count": 12,
   "metadata": {},
   "outputs": [],
   "source": [
    "attr= [i.attributes for i in df.iloc[-1]['items'].values()]\n",
    "model = df.iloc[-1]['model']"
   ]
  },
  {
   "cell_type": "code",
   "execution_count": 13,
   "metadata": {},
   "outputs": [],
   "source": [
    "arm_prices = [model.predict(a) for a in attr]"
   ]
  },
  {
   "cell_type": "code",
   "execution_count": 14,
   "metadata": {},
   "outputs": [
    {
     "output_type": "execute_result",
     "data": {
      "text/plain": [
       "[5.0, 7.0, 7.0, 6.0, 7.0, 3.0, 6.0, 4.0, 3.0, 8.0, 3.0]"
      ]
     },
     "metadata": {},
     "execution_count": 14
    }
   ],
   "source": [
    "arm_prices"
   ]
  },
  {
   "source": [
    "Notes:\n",
    "- buying and selling are not triggering often\n",
    "- when they do trigger the swap() method throws a key error\n",
    "\n",
    "immediate ToDos (debugging scaffold):\n",
    "- fix key error\n",
    "- make sure trades trigger as expected\n",
    "\n",
    "harder ToDo:\n",
    "- revist the \"learning\" algorithm and come up with an invariant preserving mechanism such that trades manifest the updated price and the whole system can be interpreted as signal processing!"
   ],
   "cell_type": "markdown",
   "metadata": {}
  },
  {
   "cell_type": "code",
   "execution_count": null,
   "metadata": {},
   "outputs": [],
   "source": []
  }
 ]
}