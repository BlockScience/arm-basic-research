{
 "cells": [
  {
   "cell_type": "code",
   "execution_count": 1,
   "metadata": {},
   "outputs": [],
   "source": [
    "import matplotlib.pyplot as plt\n",
    "import numpy as np\n",
    "import pandas as pd"
   ]
  },
  {
   "cell_type": "code",
   "execution_count": 2,
   "metadata": {},
   "outputs": [],
   "source": [
    "from helper_functions import gen_attributes, gen_context"
   ]
  },
  {
   "cell_type": "code",
   "execution_count": 3,
   "metadata": {},
   "outputs": [],
   "source": [
    "n = 10 #attributes\n",
    "l = 250 #demand slots\n",
    "r = 100 #supply slots\n",
    "m = 15 #items in the market\n",
    "\n",
    "#some_items = np.array([gen_attributes(n=n) for k in range(r) ])\n",
    "# some_contexts = np.array([gen_context(n=n) for k in range(l) ])"
   ]
  },
  {
   "cell_type": "markdown",
   "metadata": {},
   "source": [
    "Let's first create a bunch or \"real\" supply (unknown) to the ARM.\n"
   ]
  },
  {
   "cell_type": "code",
   "execution_count": 4,
   "metadata": {},
   "outputs": [],
   "source": [
    "supply = {}\n",
    "\n",
    "supply['items'] =  np.array([gen_attributes(n=n) for k in range(r) ])\n",
    "supply['quantity'] = np.array([np.random.randint(1, 10) for k in range(r) ])\n",
    "supply['context'] = np.array([gen_context(n=n) for k in range(r) ])\n",
    "\n",
    "\n",
    "market = {}\n",
    "\n",
    "market['items'] =  np.array([gen_attributes(n=n) for k in range(m) ])\n",
    "market['quantity'] = np.array([np.random.randint(1, 10) for k in range(m) ])\n",
    "market['funds'] = 1000\n",
    "\n",
    "demand = {}\n",
    "\n",
    "demand['quantity'] = np.array([np.random.randint(1, 10) for k in range(l) ])\n",
    "demand['context'] = np.array([gen_context(n=n) for k in range(l) ])\n"
   ]
  },
  {
   "cell_type": "code",
   "execution_count": 5,
   "metadata": {},
   "outputs": [],
   "source": [
    "def valuation(attr,context):\n",
    "    return sum(attr*context)"
   ]
  },
  {
   "cell_type": "code",
   "execution_count": 6,
   "metadata": {},
   "outputs": [
    {
     "data": {
      "text/plain": [
       "9"
      ]
     },
     "execution_count": 6,
     "metadata": {},
     "output_type": "execute_result"
    }
   ],
   "source": [
    "valuation(supply['items'][0], supply['context'][0])"
   ]
  },
  {
   "cell_type": "code",
   "execution_count": null,
   "metadata": {},
   "outputs": [],
   "source": []
  }
 ],
 "metadata": {
  "interpreter": {
   "hash": "7b1772db3cddc08457cc23b229bff4f5b14d39d24a324a3946d9a956e14623d6"
  },
  "kernelspec": {
   "display_name": "Python 3.8.5 64-bit ('base': conda)",
   "name": "python3"
  },
  "language_info": {
   "codemirror_mode": {
    "name": "ipython",
    "version": 3
   },
   "file_extension": ".py",
   "mimetype": "text/x-python",
   "name": "python",
   "nbconvert_exporter": "python",
   "pygments_lexer": "ipython3",
   "version": "3.8.5"
  },
  "orig_nbformat": 4
 },
 "nbformat": 4,
 "nbformat_minor": 2
}
